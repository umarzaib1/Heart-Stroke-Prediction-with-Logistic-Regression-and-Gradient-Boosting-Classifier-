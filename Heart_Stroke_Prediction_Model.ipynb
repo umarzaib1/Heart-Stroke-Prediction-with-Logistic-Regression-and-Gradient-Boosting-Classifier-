{
  "nbformat": 4,
  "nbformat_minor": 0,
  "metadata": {
    "colab": {
      "provenance": [],
      "authorship_tag": "ABX9TyP33N9tBPOitnr2/pUDRaXC",
      "include_colab_link": true
    },
    "kernelspec": {
      "name": "python3",
      "display_name": "Python 3"
    },
    "language_info": {
      "name": "python"
    }
  },
  "cells": [
    {
      "cell_type": "markdown",
      "metadata": {
        "id": "view-in-github",
        "colab_type": "text"
      },
      "source": [
        "<a href=\"https://colab.research.google.com/github/umarzaib1/Heart-Stroke-Prediction-with-Logistic-Regression-and-Gradient-Boosting-Classifier-/blob/main/Heart_Stroke_Prediction_Model.ipynb\" target=\"_parent\"><img src=\"https://colab.research.google.com/assets/colab-badge.svg\" alt=\"Open In Colab\"/></a>"
      ]
    },
    {
      "cell_type": "markdown",
      "metadata": {
        "id": "30084420"
      },
      "source": [
        "## Project Details\n",
        "\n",
        "Here is a step-by-step plan to build and deploy a stroke prediction model:\n",
        "\n",
        "1.  **Load Data**: Load the stroke prediction dataset.\n",
        "2.  **Explore Data**: Perform initial data exploration to understand the dataset structure, identify missing values, and analyze basic statistics.\n",
        "3.  **Clean Data**: Handle missing values, outliers, and inconsistencies in the data.\n",
        "4.  **Process Data**: Encode categorical variables, scale numerical features, and split the data into training and testing sets.\n",
        "5.  **Analyze and Visualize Data**: Explore the relationships between features and the target variable (stroke) using visualizations and statistical analysis. Identify important features.\n",
        "6.  **Build Model**: Choose a suitable model (e.g., Logistic Regression, Random Forest, Gradient Boosting) and train it on the training data.\n",
        "7.  **Validate Model**: Evaluate the model's performance using appropriate metrics (e.g., accuracy, precision, recall, F1-score, AUC) on the testing data. Perform cross-validation for robust evaluation.\n",
        "8.  **Tune Model**: Optimize model hyperparameters to improve performance.\n",
        "9. **Finish task**: Summarize the findings, the model's performance, and the deployment strategy."
      ]
    },
    {
      "cell_type": "markdown",
      "metadata": {
        "id": "dc376259"
      },
      "source": [
        "## Task 1: Load Data\n",
        "\n",
        "Load the stroke prediction dataset into a pandas DataFrame."
      ]
    },
    {
      "cell_type": "code",
      "source": [
        "import pandas as pd\n",
        "\n",
        "data = pd.read_csv('Heart_stroke.csv')"
      ],
      "metadata": {
        "id": "EgrZuZM-kSfU"
      },
      "execution_count": null,
      "outputs": []
    },
    {
      "cell_type": "code",
      "source": [
        "data.head(10)"
      ],
      "metadata": {
        "colab": {
          "base_uri": "https://localhost:8080/",
          "height": 418
        },
        "id": "F0H6yATZkSU8",
        "outputId": "ca58e492-7e0c-4516-b26c-c08814964dd9"
      },
      "execution_count": null,
      "outputs": [
        {
          "output_type": "execute_result",
          "data": {
            "text/plain": [
              "      id  gender   age  hypertension  heart_disease ever_married  \\\n",
              "0   9046    Male  67.0             0              1          Yes   \n",
              "1  51676  Female  61.0             0              0          Yes   \n",
              "2  31112    Male  80.0             0              1          Yes   \n",
              "3  60182  Female  49.0             0              0          Yes   \n",
              "4   1665  Female  79.0             1              0          Yes   \n",
              "5  56669    Male  81.0             0              0          Yes   \n",
              "6  53882    Male  74.0             1              1          Yes   \n",
              "7  10434  Female  69.0             0              0           No   \n",
              "8  27419  Female  59.0             0              0          Yes   \n",
              "9  60491  Female  78.0             0              0          Yes   \n",
              "\n",
              "       work_type Residence_type  avg_glucose_level   bmi   smoking_status  \\\n",
              "0        Private          Urban             228.69  36.6  formerly smoked   \n",
              "1  Self-employed          Rural             202.21   NaN     never smoked   \n",
              "2        Private          Rural             105.92  32.5     never smoked   \n",
              "3        Private          Urban             171.23  34.4           smokes   \n",
              "4  Self-employed          Rural             174.12  24.0     never smoked   \n",
              "5        Private          Urban             186.21  29.0  formerly smoked   \n",
              "6        Private          Rural              70.09  27.4     never smoked   \n",
              "7        Private          Urban              94.39  22.8     never smoked   \n",
              "8        Private          Rural              76.15   NaN          Unknown   \n",
              "9        Private          Urban              58.57  24.2          Unknown   \n",
              "\n",
              "   stroke  \n",
              "0       1  \n",
              "1       1  \n",
              "2       1  \n",
              "3       1  \n",
              "4       1  \n",
              "5       1  \n",
              "6       1  \n",
              "7       1  \n",
              "8       1  \n",
              "9       1  "
            ],
            "text/html": [
              "\n",
              "  <div id=\"df-9e9167ff-65d4-4563-bd60-508795fbb1d6\" class=\"colab-df-container\">\n",
              "    <div>\n",
              "<style scoped>\n",
              "    .dataframe tbody tr th:only-of-type {\n",
              "        vertical-align: middle;\n",
              "    }\n",
              "\n",
              "    .dataframe tbody tr th {\n",
              "        vertical-align: top;\n",
              "    }\n",
              "\n",
              "    .dataframe thead th {\n",
              "        text-align: right;\n",
              "    }\n",
              "</style>\n",
              "<table border=\"1\" class=\"dataframe\">\n",
              "  <thead>\n",
              "    <tr style=\"text-align: right;\">\n",
              "      <th></th>\n",
              "      <th>id</th>\n",
              "      <th>gender</th>\n",
              "      <th>age</th>\n",
              "      <th>hypertension</th>\n",
              "      <th>heart_disease</th>\n",
              "      <th>ever_married</th>\n",
              "      <th>work_type</th>\n",
              "      <th>Residence_type</th>\n",
              "      <th>avg_glucose_level</th>\n",
              "      <th>bmi</th>\n",
              "      <th>smoking_status</th>\n",
              "      <th>stroke</th>\n",
              "    </tr>\n",
              "  </thead>\n",
              "  <tbody>\n",
              "    <tr>\n",
              "      <th>0</th>\n",
              "      <td>9046</td>\n",
              "      <td>Male</td>\n",
              "      <td>67.0</td>\n",
              "      <td>0</td>\n",
              "      <td>1</td>\n",
              "      <td>Yes</td>\n",
              "      <td>Private</td>\n",
              "      <td>Urban</td>\n",
              "      <td>228.69</td>\n",
              "      <td>36.6</td>\n",
              "      <td>formerly smoked</td>\n",
              "      <td>1</td>\n",
              "    </tr>\n",
              "    <tr>\n",
              "      <th>1</th>\n",
              "      <td>51676</td>\n",
              "      <td>Female</td>\n",
              "      <td>61.0</td>\n",
              "      <td>0</td>\n",
              "      <td>0</td>\n",
              "      <td>Yes</td>\n",
              "      <td>Self-employed</td>\n",
              "      <td>Rural</td>\n",
              "      <td>202.21</td>\n",
              "      <td>NaN</td>\n",
              "      <td>never smoked</td>\n",
              "      <td>1</td>\n",
              "    </tr>\n",
              "    <tr>\n",
              "      <th>2</th>\n",
              "      <td>31112</td>\n",
              "      <td>Male</td>\n",
              "      <td>80.0</td>\n",
              "      <td>0</td>\n",
              "      <td>1</td>\n",
              "      <td>Yes</td>\n",
              "      <td>Private</td>\n",
              "      <td>Rural</td>\n",
              "      <td>105.92</td>\n",
              "      <td>32.5</td>\n",
              "      <td>never smoked</td>\n",
              "      <td>1</td>\n",
              "    </tr>\n",
              "    <tr>\n",
              "      <th>3</th>\n",
              "      <td>60182</td>\n",
              "      <td>Female</td>\n",
              "      <td>49.0</td>\n",
              "      <td>0</td>\n",
              "      <td>0</td>\n",
              "      <td>Yes</td>\n",
              "      <td>Private</td>\n",
              "      <td>Urban</td>\n",
              "      <td>171.23</td>\n",
              "      <td>34.4</td>\n",
              "      <td>smokes</td>\n",
              "      <td>1</td>\n",
              "    </tr>\n",
              "    <tr>\n",
              "      <th>4</th>\n",
              "      <td>1665</td>\n",
              "      <td>Female</td>\n",
              "      <td>79.0</td>\n",
              "      <td>1</td>\n",
              "      <td>0</td>\n",
              "      <td>Yes</td>\n",
              "      <td>Self-employed</td>\n",
              "      <td>Rural</td>\n",
              "      <td>174.12</td>\n",
              "      <td>24.0</td>\n",
              "      <td>never smoked</td>\n",
              "      <td>1</td>\n",
              "    </tr>\n",
              "    <tr>\n",
              "      <th>5</th>\n",
              "      <td>56669</td>\n",
              "      <td>Male</td>\n",
              "      <td>81.0</td>\n",
              "      <td>0</td>\n",
              "      <td>0</td>\n",
              "      <td>Yes</td>\n",
              "      <td>Private</td>\n",
              "      <td>Urban</td>\n",
              "      <td>186.21</td>\n",
              "      <td>29.0</td>\n",
              "      <td>formerly smoked</td>\n",
              "      <td>1</td>\n",
              "    </tr>\n",
              "    <tr>\n",
              "      <th>6</th>\n",
              "      <td>53882</td>\n",
              "      <td>Male</td>\n",
              "      <td>74.0</td>\n",
              "      <td>1</td>\n",
              "      <td>1</td>\n",
              "      <td>Yes</td>\n",
              "      <td>Private</td>\n",
              "      <td>Rural</td>\n",
              "      <td>70.09</td>\n",
              "      <td>27.4</td>\n",
              "      <td>never smoked</td>\n",
              "      <td>1</td>\n",
              "    </tr>\n",
              "    <tr>\n",
              "      <th>7</th>\n",
              "      <td>10434</td>\n",
              "      <td>Female</td>\n",
              "      <td>69.0</td>\n",
              "      <td>0</td>\n",
              "      <td>0</td>\n",
              "      <td>No</td>\n",
              "      <td>Private</td>\n",
              "      <td>Urban</td>\n",
              "      <td>94.39</td>\n",
              "      <td>22.8</td>\n",
              "      <td>never smoked</td>\n",
              "      <td>1</td>\n",
              "    </tr>\n",
              "    <tr>\n",
              "      <th>8</th>\n",
              "      <td>27419</td>\n",
              "      <td>Female</td>\n",
              "      <td>59.0</td>\n",
              "      <td>0</td>\n",
              "      <td>0</td>\n",
              "      <td>Yes</td>\n",
              "      <td>Private</td>\n",
              "      <td>Rural</td>\n",
              "      <td>76.15</td>\n",
              "      <td>NaN</td>\n",
              "      <td>Unknown</td>\n",
              "      <td>1</td>\n",
              "    </tr>\n",
              "    <tr>\n",
              "      <th>9</th>\n",
              "      <td>60491</td>\n",
              "      <td>Female</td>\n",
              "      <td>78.0</td>\n",
              "      <td>0</td>\n",
              "      <td>0</td>\n",
              "      <td>Yes</td>\n",
              "      <td>Private</td>\n",
              "      <td>Urban</td>\n",
              "      <td>58.57</td>\n",
              "      <td>24.2</td>\n",
              "      <td>Unknown</td>\n",
              "      <td>1</td>\n",
              "    </tr>\n",
              "  </tbody>\n",
              "</table>\n",
              "</div>\n",
              "    <div class=\"colab-df-buttons\">\n",
              "\n",
              "  <div class=\"colab-df-container\">\n",
              "    <button class=\"colab-df-convert\" onclick=\"convertToInteractive('df-9e9167ff-65d4-4563-bd60-508795fbb1d6')\"\n",
              "            title=\"Convert this dataframe to an interactive table.\"\n",
              "            style=\"display:none;\">\n",
              "\n",
              "  <svg xmlns=\"http://www.w3.org/2000/svg\" height=\"24px\" viewBox=\"0 -960 960 960\">\n",
              "    <path d=\"M120-120v-720h720v720H120Zm60-500h600v-160H180v160Zm220 220h160v-160H400v160Zm0 220h160v-160H400v160ZM180-400h160v-160H180v160Zm440 0h160v-160H620v160ZM180-180h160v-160H180v160Zm440 0h160v-160H620v160Z\"/>\n",
              "  </svg>\n",
              "    </button>\n",
              "\n",
              "  <style>\n",
              "    .colab-df-container {\n",
              "      display:flex;\n",
              "      gap: 12px;\n",
              "    }\n",
              "\n",
              "    .colab-df-convert {\n",
              "      background-color: #E8F0FE;\n",
              "      border: none;\n",
              "      border-radius: 50%;\n",
              "      cursor: pointer;\n",
              "      display: none;\n",
              "      fill: #1967D2;\n",
              "      height: 32px;\n",
              "      padding: 0 0 0 0;\n",
              "      width: 32px;\n",
              "    }\n",
              "\n",
              "    .colab-df-convert:hover {\n",
              "      background-color: #E2EBFA;\n",
              "      box-shadow: 0px 1px 2px rgba(60, 64, 67, 0.3), 0px 1px 3px 1px rgba(60, 64, 67, 0.15);\n",
              "      fill: #174EA6;\n",
              "    }\n",
              "\n",
              "    .colab-df-buttons div {\n",
              "      margin-bottom: 4px;\n",
              "    }\n",
              "\n",
              "    [theme=dark] .colab-df-convert {\n",
              "      background-color: #3B4455;\n",
              "      fill: #D2E3FC;\n",
              "    }\n",
              "\n",
              "    [theme=dark] .colab-df-convert:hover {\n",
              "      background-color: #434B5C;\n",
              "      box-shadow: 0px 1px 3px 1px rgba(0, 0, 0, 0.15);\n",
              "      filter: drop-shadow(0px 1px 2px rgba(0, 0, 0, 0.3));\n",
              "      fill: #FFFFFF;\n",
              "    }\n",
              "  </style>\n",
              "\n",
              "    <script>\n",
              "      const buttonEl =\n",
              "        document.querySelector('#df-9e9167ff-65d4-4563-bd60-508795fbb1d6 button.colab-df-convert');\n",
              "      buttonEl.style.display =\n",
              "        google.colab.kernel.accessAllowed ? 'block' : 'none';\n",
              "\n",
              "      async function convertToInteractive(key) {\n",
              "        const element = document.querySelector('#df-9e9167ff-65d4-4563-bd60-508795fbb1d6');\n",
              "        const dataTable =\n",
              "          await google.colab.kernel.invokeFunction('convertToInteractive',\n",
              "                                                    [key], {});\n",
              "        if (!dataTable) return;\n",
              "\n",
              "        const docLinkHtml = 'Like what you see? Visit the ' +\n",
              "          '<a target=\"_blank\" href=https://colab.research.google.com/notebooks/data_table.ipynb>data table notebook</a>'\n",
              "          + ' to learn more about interactive tables.';\n",
              "        element.innerHTML = '';\n",
              "        dataTable['output_type'] = 'display_data';\n",
              "        await google.colab.output.renderOutput(dataTable, element);\n",
              "        const docLink = document.createElement('div');\n",
              "        docLink.innerHTML = docLinkHtml;\n",
              "        element.appendChild(docLink);\n",
              "      }\n",
              "    </script>\n",
              "  </div>\n",
              "\n",
              "\n",
              "    <div id=\"df-b9ab49d9-72a3-41e2-82ac-40f3a86f64bc\">\n",
              "      <button class=\"colab-df-quickchart\" onclick=\"quickchart('df-b9ab49d9-72a3-41e2-82ac-40f3a86f64bc')\"\n",
              "                title=\"Suggest charts\"\n",
              "                style=\"display:none;\">\n",
              "\n",
              "<svg xmlns=\"http://www.w3.org/2000/svg\" height=\"24px\"viewBox=\"0 0 24 24\"\n",
              "     width=\"24px\">\n",
              "    <g>\n",
              "        <path d=\"M19 3H5c-1.1 0-2 .9-2 2v14c0 1.1.9 2 2 2h14c1.1 0 2-.9 2-2V5c0-1.1-.9-2-2-2zM9 17H7v-7h2v7zm4 0h-2V7h2v10zm4 0h-2v-4h2v4z\"/>\n",
              "    </g>\n",
              "</svg>\n",
              "      </button>\n",
              "\n",
              "<style>\n",
              "  .colab-df-quickchart {\n",
              "      --bg-color: #E8F0FE;\n",
              "      --fill-color: #1967D2;\n",
              "      --hover-bg-color: #E2EBFA;\n",
              "      --hover-fill-color: #174EA6;\n",
              "      --disabled-fill-color: #AAA;\n",
              "      --disabled-bg-color: #DDD;\n",
              "  }\n",
              "\n",
              "  [theme=dark] .colab-df-quickchart {\n",
              "      --bg-color: #3B4455;\n",
              "      --fill-color: #D2E3FC;\n",
              "      --hover-bg-color: #434B5C;\n",
              "      --hover-fill-color: #FFFFFF;\n",
              "      --disabled-bg-color: #3B4455;\n",
              "      --disabled-fill-color: #666;\n",
              "  }\n",
              "\n",
              "  .colab-df-quickchart {\n",
              "    background-color: var(--bg-color);\n",
              "    border: none;\n",
              "    border-radius: 50%;\n",
              "    cursor: pointer;\n",
              "    display: none;\n",
              "    fill: var(--fill-color);\n",
              "    height: 32px;\n",
              "    padding: 0;\n",
              "    width: 32px;\n",
              "  }\n",
              "\n",
              "  .colab-df-quickchart:hover {\n",
              "    background-color: var(--hover-bg-color);\n",
              "    box-shadow: 0 1px 2px rgba(60, 64, 67, 0.3), 0 1px 3px 1px rgba(60, 64, 67, 0.15);\n",
              "    fill: var(--button-hover-fill-color);\n",
              "  }\n",
              "\n",
              "  .colab-df-quickchart-complete:disabled,\n",
              "  .colab-df-quickchart-complete:disabled:hover {\n",
              "    background-color: var(--disabled-bg-color);\n",
              "    fill: var(--disabled-fill-color);\n",
              "    box-shadow: none;\n",
              "  }\n",
              "\n",
              "  .colab-df-spinner {\n",
              "    border: 2px solid var(--fill-color);\n",
              "    border-color: transparent;\n",
              "    border-bottom-color: var(--fill-color);\n",
              "    animation:\n",
              "      spin 1s steps(1) infinite;\n",
              "  }\n",
              "\n",
              "  @keyframes spin {\n",
              "    0% {\n",
              "      border-color: transparent;\n",
              "      border-bottom-color: var(--fill-color);\n",
              "      border-left-color: var(--fill-color);\n",
              "    }\n",
              "    20% {\n",
              "      border-color: transparent;\n",
              "      border-left-color: var(--fill-color);\n",
              "      border-top-color: var(--fill-color);\n",
              "    }\n",
              "    30% {\n",
              "      border-color: transparent;\n",
              "      border-left-color: var(--fill-color);\n",
              "      border-top-color: var(--fill-color);\n",
              "      border-right-color: var(--fill-color);\n",
              "    }\n",
              "    40% {\n",
              "      border-color: transparent;\n",
              "      border-right-color: var(--fill-color);\n",
              "      border-top-color: var(--fill-color);\n",
              "    }\n",
              "    60% {\n",
              "      border-color: transparent;\n",
              "      border-right-color: var(--fill-color);\n",
              "    }\n",
              "    80% {\n",
              "      border-color: transparent;\n",
              "      border-right-color: var(--fill-color);\n",
              "      border-bottom-color: var(--fill-color);\n",
              "    }\n",
              "    90% {\n",
              "      border-color: transparent;\n",
              "      border-bottom-color: var(--fill-color);\n",
              "    }\n",
              "  }\n",
              "</style>\n",
              "\n",
              "      <script>\n",
              "        async function quickchart(key) {\n",
              "          const quickchartButtonEl =\n",
              "            document.querySelector('#' + key + ' button');\n",
              "          quickchartButtonEl.disabled = true;  // To prevent multiple clicks.\n",
              "          quickchartButtonEl.classList.add('colab-df-spinner');\n",
              "          try {\n",
              "            const charts = await google.colab.kernel.invokeFunction(\n",
              "                'suggestCharts', [key], {});\n",
              "          } catch (error) {\n",
              "            console.error('Error during call to suggestCharts:', error);\n",
              "          }\n",
              "          quickchartButtonEl.classList.remove('colab-df-spinner');\n",
              "          quickchartButtonEl.classList.add('colab-df-quickchart-complete');\n",
              "        }\n",
              "        (() => {\n",
              "          let quickchartButtonEl =\n",
              "            document.querySelector('#df-b9ab49d9-72a3-41e2-82ac-40f3a86f64bc button');\n",
              "          quickchartButtonEl.style.display =\n",
              "            google.colab.kernel.accessAllowed ? 'block' : 'none';\n",
              "        })();\n",
              "      </script>\n",
              "    </div>\n",
              "\n",
              "    </div>\n",
              "  </div>\n"
            ],
            "application/vnd.google.colaboratory.intrinsic+json": {
              "type": "dataframe",
              "variable_name": "data",
              "summary": "{\n  \"name\": \"data\",\n  \"rows\": 5110,\n  \"fields\": [\n    {\n      \"column\": \"id\",\n      \"properties\": {\n        \"dtype\": \"number\",\n        \"std\": 21161,\n        \"min\": 67,\n        \"max\": 72940,\n        \"num_unique_values\": 5110,\n        \"samples\": [\n          40041,\n          55244,\n          70992\n        ],\n        \"semantic_type\": \"\",\n        \"description\": \"\"\n      }\n    },\n    {\n      \"column\": \"gender\",\n      \"properties\": {\n        \"dtype\": \"category\",\n        \"num_unique_values\": 3,\n        \"samples\": [\n          \"Male\",\n          \"Female\",\n          \"Other\"\n        ],\n        \"semantic_type\": \"\",\n        \"description\": \"\"\n      }\n    },\n    {\n      \"column\": \"age\",\n      \"properties\": {\n        \"dtype\": \"number\",\n        \"std\": 22.61264672311352,\n        \"min\": 0.08,\n        \"max\": 82.0,\n        \"num_unique_values\": 104,\n        \"samples\": [\n          45.0,\n          24.0,\n          33.0\n        ],\n        \"semantic_type\": \"\",\n        \"description\": \"\"\n      }\n    },\n    {\n      \"column\": \"hypertension\",\n      \"properties\": {\n        \"dtype\": \"number\",\n        \"std\": 0,\n        \"min\": 0,\n        \"max\": 1,\n        \"num_unique_values\": 2,\n        \"samples\": [\n          1,\n          0\n        ],\n        \"semantic_type\": \"\",\n        \"description\": \"\"\n      }\n    },\n    {\n      \"column\": \"heart_disease\",\n      \"properties\": {\n        \"dtype\": \"number\",\n        \"std\": 0,\n        \"min\": 0,\n        \"max\": 1,\n        \"num_unique_values\": 2,\n        \"samples\": [\n          0,\n          1\n        ],\n        \"semantic_type\": \"\",\n        \"description\": \"\"\n      }\n    },\n    {\n      \"column\": \"ever_married\",\n      \"properties\": {\n        \"dtype\": \"category\",\n        \"num_unique_values\": 2,\n        \"samples\": [\n          \"No\",\n          \"Yes\"\n        ],\n        \"semantic_type\": \"\",\n        \"description\": \"\"\n      }\n    },\n    {\n      \"column\": \"work_type\",\n      \"properties\": {\n        \"dtype\": \"category\",\n        \"num_unique_values\": 5,\n        \"samples\": [\n          \"Self-employed\",\n          \"Never_worked\"\n        ],\n        \"semantic_type\": \"\",\n        \"description\": \"\"\n      }\n    },\n    {\n      \"column\": \"Residence_type\",\n      \"properties\": {\n        \"dtype\": \"category\",\n        \"num_unique_values\": 2,\n        \"samples\": [\n          \"Rural\",\n          \"Urban\"\n        ],\n        \"semantic_type\": \"\",\n        \"description\": \"\"\n      }\n    },\n    {\n      \"column\": \"avg_glucose_level\",\n      \"properties\": {\n        \"dtype\": \"number\",\n        \"std\": 45.28356015058203,\n        \"min\": 55.12,\n        \"max\": 271.74,\n        \"num_unique_values\": 3979,\n        \"samples\": [\n          178.29,\n          156.69\n        ],\n        \"semantic_type\": \"\",\n        \"description\": \"\"\n      }\n    },\n    {\n      \"column\": \"bmi\",\n      \"properties\": {\n        \"dtype\": \"number\",\n        \"std\": 7.854066729680158,\n        \"min\": 10.3,\n        \"max\": 97.6,\n        \"num_unique_values\": 418,\n        \"samples\": [\n          49.5,\n          18.5\n        ],\n        \"semantic_type\": \"\",\n        \"description\": \"\"\n      }\n    },\n    {\n      \"column\": \"smoking_status\",\n      \"properties\": {\n        \"dtype\": \"category\",\n        \"num_unique_values\": 4,\n        \"samples\": [\n          \"never smoked\",\n          \"Unknown\"\n        ],\n        \"semantic_type\": \"\",\n        \"description\": \"\"\n      }\n    },\n    {\n      \"column\": \"stroke\",\n      \"properties\": {\n        \"dtype\": \"number\",\n        \"std\": 0,\n        \"min\": 0,\n        \"max\": 1,\n        \"num_unique_values\": 2,\n        \"samples\": [\n          0,\n          1\n        ],\n        \"semantic_type\": \"\",\n        \"description\": \"\"\n      }\n    }\n  ]\n}"
            }
          },
          "metadata": {},
          "execution_count": 55
        }
      ]
    },
    {
      "cell_type": "code",
      "source": [
        "data.shape\n",
        "data.info()"
      ],
      "metadata": {
        "colab": {
          "base_uri": "https://localhost:8080/"
        },
        "id": "iSHGXmT4kSRP",
        "outputId": "42effc61-b6f5-4000-d5c8-248d9eb9f5e1"
      },
      "execution_count": null,
      "outputs": [
        {
          "output_type": "stream",
          "name": "stdout",
          "text": [
            "<class 'pandas.core.frame.DataFrame'>\n",
            "RangeIndex: 5110 entries, 0 to 5109\n",
            "Data columns (total 12 columns):\n",
            " #   Column             Non-Null Count  Dtype  \n",
            "---  ------             --------------  -----  \n",
            " 0   id                 5110 non-null   int64  \n",
            " 1   gender             5110 non-null   object \n",
            " 2   age                5110 non-null   float64\n",
            " 3   hypertension       5110 non-null   int64  \n",
            " 4   heart_disease      5110 non-null   int64  \n",
            " 5   ever_married       5110 non-null   object \n",
            " 6   work_type          5110 non-null   object \n",
            " 7   Residence_type     5110 non-null   object \n",
            " 8   avg_glucose_level  5110 non-null   float64\n",
            " 9   bmi                4909 non-null   float64\n",
            " 10  smoking_status     5110 non-null   object \n",
            " 11  stroke             5110 non-null   int64  \n",
            "dtypes: float64(3), int64(4), object(5)\n",
            "memory usage: 479.2+ KB\n"
          ]
        }
      ]
    },
    {
      "cell_type": "markdown",
      "metadata": {
        "id": "e0259c38"
      },
      "source": [
        "## Task 2: Explore Data\n",
        "\n",
        "Perform initial data exploration to understand the dataset structure, identify missing values, and analyze basic statistics."
      ]
    },
    {
      "cell_type": "code",
      "source": [
        "data.isna().sum()"
      ],
      "metadata": {
        "colab": {
          "base_uri": "https://localhost:8080/",
          "height": 460
        },
        "id": "TYF_kuXvkTzl",
        "outputId": "839f22f9-88dd-4f3a-a5e5-f80199b8ae3f"
      },
      "execution_count": null,
      "outputs": [
        {
          "output_type": "execute_result",
          "data": {
            "text/plain": [
              "id                     0\n",
              "gender                 0\n",
              "age                    0\n",
              "hypertension           0\n",
              "heart_disease          0\n",
              "ever_married           0\n",
              "work_type              0\n",
              "Residence_type         0\n",
              "avg_glucose_level      0\n",
              "bmi                  201\n",
              "smoking_status         0\n",
              "stroke                 0\n",
              "dtype: int64"
            ],
            "text/html": [
              "<div>\n",
              "<style scoped>\n",
              "    .dataframe tbody tr th:only-of-type {\n",
              "        vertical-align: middle;\n",
              "    }\n",
              "\n",
              "    .dataframe tbody tr th {\n",
              "        vertical-align: top;\n",
              "    }\n",
              "\n",
              "    .dataframe thead th {\n",
              "        text-align: right;\n",
              "    }\n",
              "</style>\n",
              "<table border=\"1\" class=\"dataframe\">\n",
              "  <thead>\n",
              "    <tr style=\"text-align: right;\">\n",
              "      <th></th>\n",
              "      <th>0</th>\n",
              "    </tr>\n",
              "  </thead>\n",
              "  <tbody>\n",
              "    <tr>\n",
              "      <th>id</th>\n",
              "      <td>0</td>\n",
              "    </tr>\n",
              "    <tr>\n",
              "      <th>gender</th>\n",
              "      <td>0</td>\n",
              "    </tr>\n",
              "    <tr>\n",
              "      <th>age</th>\n",
              "      <td>0</td>\n",
              "    </tr>\n",
              "    <tr>\n",
              "      <th>hypertension</th>\n",
              "      <td>0</td>\n",
              "    </tr>\n",
              "    <tr>\n",
              "      <th>heart_disease</th>\n",
              "      <td>0</td>\n",
              "    </tr>\n",
              "    <tr>\n",
              "      <th>ever_married</th>\n",
              "      <td>0</td>\n",
              "    </tr>\n",
              "    <tr>\n",
              "      <th>work_type</th>\n",
              "      <td>0</td>\n",
              "    </tr>\n",
              "    <tr>\n",
              "      <th>Residence_type</th>\n",
              "      <td>0</td>\n",
              "    </tr>\n",
              "    <tr>\n",
              "      <th>avg_glucose_level</th>\n",
              "      <td>0</td>\n",
              "    </tr>\n",
              "    <tr>\n",
              "      <th>bmi</th>\n",
              "      <td>201</td>\n",
              "    </tr>\n",
              "    <tr>\n",
              "      <th>smoking_status</th>\n",
              "      <td>0</td>\n",
              "    </tr>\n",
              "    <tr>\n",
              "      <th>stroke</th>\n",
              "      <td>0</td>\n",
              "    </tr>\n",
              "  </tbody>\n",
              "</table>\n",
              "</div><br><label><b>dtype:</b> int64</label>"
            ]
          },
          "metadata": {},
          "execution_count": 58
        }
      ]
    },
    {
      "cell_type": "code",
      "source": [
        "bmi_groups = data.groupby(['age','gender'])['bmi'] # group the data by age and gender and took the bmi column\n",
        "data['bmi'] = bmi_groups.transform(lambda x: x.fillna(x.mean())) # filled na in bmi with means of respective age and gender\n"
      ],
      "metadata": {
        "id": "6CpLhN9akTwm"
      },
      "execution_count": null,
      "outputs": []
    },
    {
      "cell_type": "code",
      "source": [
        "data['bmi'].fillna(data['bmi'].mean(), inplace=True) # filled rest of na values left in bmi after above process"
      ],
      "metadata": {
        "id": "aUuh_pYjkTty"
      },
      "execution_count": null,
      "outputs": []
    },
    {
      "cell_type": "code",
      "source": [
        "data.info()"
      ],
      "metadata": {
        "colab": {
          "base_uri": "https://localhost:8080/"
        },
        "id": "uDapdM5tqUCX",
        "outputId": "f9926448-411b-4c92-f512-a3ff01a9c6af"
      },
      "execution_count": null,
      "outputs": [
        {
          "output_type": "stream",
          "name": "stdout",
          "text": [
            "<class 'pandas.core.frame.DataFrame'>\n",
            "RangeIndex: 5110 entries, 0 to 5109\n",
            "Data columns (total 12 columns):\n",
            " #   Column             Non-Null Count  Dtype  \n",
            "---  ------             --------------  -----  \n",
            " 0   id                 5110 non-null   int64  \n",
            " 1   gender             5110 non-null   object \n",
            " 2   age                5110 non-null   float64\n",
            " 3   hypertension       5110 non-null   int64  \n",
            " 4   heart_disease      5110 non-null   int64  \n",
            " 5   ever_married       5110 non-null   object \n",
            " 6   work_type          5110 non-null   object \n",
            " 7   Residence_type     5110 non-null   object \n",
            " 8   avg_glucose_level  5110 non-null   float64\n",
            " 9   bmi                5110 non-null   float64\n",
            " 10  smoking_status     5110 non-null   object \n",
            " 11  stroke             5110 non-null   int64  \n",
            "dtypes: float64(3), int64(4), object(5)\n",
            "memory usage: 479.2+ KB\n"
          ]
        }
      ]
    },
    {
      "cell_type": "markdown",
      "metadata": {
        "id": "b1284263"
      },
      "source": [
        "## Task 3: Clean Data\n",
        "\n",
        "Handle missing values, outliers, and inconsistencies in the data."
      ]
    },
    {
      "cell_type": "code",
      "source": [
        "data.duplicated(subset=['id']).sum() # duplicates based on id column to check for reappeared entries\n",
        "data.duplicated().sum() # duplictes in the whole dataset which in this case is 0"
      ],
      "metadata": {
        "colab": {
          "base_uri": "https://localhost:8080/"
        },
        "id": "8USZeNvlkU52",
        "outputId": "45cd1c4d-b094-4ef9-aa7e-5a8c00cee23e"
      },
      "execution_count": null,
      "outputs": [
        {
          "output_type": "execute_result",
          "data": {
            "text/plain": [
              "np.int64(0)"
            ]
          },
          "metadata": {},
          "execution_count": 62
        }
      ]
    },
    {
      "cell_type": "markdown",
      "source": [
        "## Outliers befor Handling\n"
      ],
      "metadata": {
        "id": "YwmKnKAOxNQN"
      }
    },
    {
      "cell_type": "code",
      "source": [
        "import matplotlib.pyplot as plt\n",
        "import seaborn as sns\n",
        "\n",
        "numerical_cols = ['age', 'avg_glucose_level', 'bmi'] # Define a list of numerical column names to be visualized\n",
        "\n",
        "plt.figure(figsize=(15, 5)) # Create a new figure for plotting with a specified size (width=15, height=5)\n",
        "\n",
        "# Loop through each numerical column to create a box plot\n",
        "for i, col in enumerate(numerical_cols):\n",
        "    plt.subplot(1, 3, i + 1) # Create a subplot within the figure. It creates a grid of 1 row and 3 columns, and selects the (i+1)-th subplot.\n",
        "    sns.boxplot(x=data[col]) # Generate a box plot for the current column 'col' from the 'data' DataFrame\n",
        "    plt.title(f'Box plot of {col}') # Set the title of the current subplot to indicate the column being plotted\n",
        "\n",
        "plt.tight_layout() # Adjust the spacing between subplots to prevent titles and labels from overlapping\n",
        "plt.show() # Display the generated plots"
      ],
      "metadata": {
        "colab": {
          "base_uri": "https://localhost:8080/",
          "height": 330
        },
        "id": "elnfWSEnkUpf",
        "outputId": "c675326d-fc27-4eec-ab42-65832f0766d3"
      },
      "execution_count": null,
      "outputs": [
        {
          "output_type": "display_data",
          "data": {
            "text/plain": [
              "<Figure size 1500x500 with 3 Axes>"
            ],
            "image/png": "[encoded data removed]"
          },
          "metadata": {}
        }
      ]
    },
    {
      "cell_type": "markdown",
      "source": [
        "Let's look at each box plot:\n",
        "\n",
        "*   **Box plot of age:** This box plot shows the distribution of ages in the dataset. The box represents the interquartile range (IQR), with the line inside indicating the median age. The \"whiskers\" extend to show the range of the data, excluding outliers. Any points beyond the whiskers are considered potential outliers. In this plot, the age distribution appears relatively symmetric, and there don't seem to be significant outliers.\n",
        "\n",
        "*   **Box plot of avg\\_glucose\\_level:** This box plot displays the distribution of average glucose levels. You can see that while the majority of the data is concentrated in a certain range (represented by the box and whiskers), there are many individual data points plotted far above the upper whisker. These points represent individuals with unusually high average glucose levels and are considered outliers.\n",
        "\n",
        "*   **Box plot of bmi:** This box plot shows the distribution of Body Mass Index (BMI). Similar to the average glucose level, the BMI box plot shows a concentration of data within a range, but also has several points extending above the upper whisker. These points represent individuals with unusually high BMI values and are considered outliers.\n",
        "\n",
        "These box plots help us visually identify features that have a wide range of values or contain potential outliers that might need further investigation or handling during the data cleaning and processing stages."
      ],
      "metadata": {
        "id": "s09glm2twdQc"
      }
    },
    {
      "cell_type": "markdown",
      "source": [
        "## Handling Outliers"
      ],
      "metadata": {
        "id": "wcBsaM7qwZtr"
      }
    },
    {
      "cell_type": "code",
      "source": [
        "def handle_outliers_iqr(df, column):\n",
        "    \"\"\"\n",
        "    Handles outliers in a numerical column using the IQR method by capping values.\n",
        "\n",
        "    Args:\n",
        "        df (pd.DataFrame): The input DataFrame.\n",
        "        column (str): The name of the column to handle outliers for.\n",
        "\n",
        "    Returns:\n",
        "        pd.DataFrame: The DataFrame with outliers handled in the specified column.\n",
        "    \"\"\"\n",
        "    # Calculate the first quartile (25th percentile)\n",
        "    Q1 = df[column].quantile(0.25)\n",
        "    # Calculate the third quartile (75th percentile)\n",
        "    Q3 = df[column].quantile(0.75)\n",
        "    # Calculate the Interquartile Range (IQR)\n",
        "    IQR = Q3 - Q1\n",
        "    # Calculate the lower bound for outlier detection (Q1 - 1.5 * IQR)\n",
        "    lower_bound = Q1 - 1.5 * IQR\n",
        "    # Calculate the upper bound for outlier detection (Q3 + 1.5 * IQR)\n",
        "    upper_bound = Q3 + 1.5 * IQR\n",
        "    # Cap the values in the column: values below the lower bound are set to the lower bound,\n",
        "    # and values above the upper bound are set to the upper bound.\n",
        "    df[column] = df[column].clip(lower=lower_bound, upper=upper_bound)\n",
        "    return df\n"
      ],
      "metadata": {
        "id": "hSWhbyNjwReu"
      },
      "execution_count": null,
      "outputs": []
    },
    {
      "cell_type": "code",
      "source": [
        "# Apply the outlier handling function to the 'avg_glucose_level' and 'bmi' columns\n",
        "data = handle_outliers_iqr(data, 'avg_glucose_level')\n",
        "data = handle_outliers_iqr(data, 'bmi')\n",
        "\n",
        "print(\"Outliers handled for 'avg_glucose_level' and 'bmi' using IQR capping.\")"
      ],
      "metadata": {
        "colab": {
          "base_uri": "https://localhost:8080/"
        },
        "id": "Y67aTiIcw6xr",
        "outputId": "4db50456-15ef-41a4-e90d-b7ea92430d07"
      },
      "execution_count": null,
      "outputs": [
        {
          "output_type": "stream",
          "name": "stdout",
          "text": [
            "Outliers handled for 'avg_glucose_level' and 'bmi' using IQR capping.\n"
          ]
        }
      ]
    },
    {
      "cell_type": "markdown",
      "source": [
        "## Outliers after Handling"
      ],
      "metadata": {
        "id": "C-eaVYYbxY2p"
      }
    },
    {
      "cell_type": "code",
      "source": [
        "import matplotlib.pyplot as plt\n",
        "import seaborn as sns\n",
        "\n",
        "numerical_cols = ['age', 'avg_glucose_level', 'bmi'] # Define a list of numerical column names to be visualized\n",
        "\n",
        "plt.figure(figsize=(15, 5)) # Create a new figure for plotting with a specified size (width=15, height=5)\n",
        "\n",
        "# Loop through each numerical column to create a box plot\n",
        "for i, col in enumerate(numerical_cols):\n",
        "    plt.subplot(1, 3, i + 1) # Create a subplot within the figure. It creates a grid of 1 row and 3 columns, and selects the (i+1)-th subplot.\n",
        "    sns.boxplot(x=data[col]) # Generate a box plot for the current column 'col' from the 'data' DataFrame\n",
        "    plt.title(f'Box plot of {col}') # Set the title of the current subplot to indicate the column being plotted\n",
        "\n",
        "plt.tight_layout() # Adjust the spacing between subplots to prevent titles and labels from overlapping\n",
        "plt.show() # Display the generated plots"
      ],
      "metadata": {
        "colab": {
          "base_uri": "https://localhost:8080/",
          "height": 330
        },
        "id": "nKAL7PeZxFwT",
        "outputId": "89bad263-ac8c-43d2-a505-dad1c1413b5f"
      },
      "execution_count": null,
      "outputs": [
        {
          "output_type": "display_data",
          "data": {
            "text/plain": [
              "<Figure size 1500x500 with 3 Axes>"
            ],
            "image/png": "[encoded data removed]"
          },
          "metadata": {}
        }
      ]
    },
    {
      "cell_type": "markdown",
      "source": [
        "## Looking for inconsistencies"
      ],
      "metadata": {
        "id": "eGtOzFo1yRvK"
      }
    },
    {
      "cell_type": "code",
      "source": [
        "categorical_cols = ['gender', 'ever_married', 'work_type', 'Residence_type', 'smoking_status']\n",
        "\n",
        "for col in categorical_cols:\n",
        "    print(f\"Unique values in '{col}':\")\n",
        "    print(data[col].unique())\n",
        "    print(\"-\" * 30)"
      ],
      "metadata": {
        "id": "eJWASnUgyV76"
      },
      "execution_count": null,
      "outputs": []
    },
    {
      "cell_type": "markdown",
      "metadata": {
        "id": "1b23c033"
      },
      "source": [
        "## Task 4: Analyze and Visualize Data\n",
        "\n",
        "Explore the relationships between features and the target variable (stroke) using visualizations and statistical analysis. Identify important features."
      ]
    },
    {
      "cell_type": "code",
      "source": [
        "import matplotlib.pyplot as plt\n",
        "import seaborn as sns\n",
        "import pandas as pd\n",
        "\n",
        "# Define age bins and labels\n",
        "# We are creating intervals for age: 0-10, 11-20, ..., 81-90\n",
        "age_bins = [0, 10, 20, 30, 40, 50, 60, 70, 80, 90]\n",
        "age_labels = [f'{i}-{i+9}' for i in age_bins[:-1]] # Create labels like '0-9', '10-19', etc.\n",
        "\n",
        "# Create a new column 'age_group' by binning the 'age' column\n",
        "# The include_lowest=True ensures that the lowest value (0) is included in the first bin.\n",
        "data['age_group'] = pd.cut(data['age'], bins=age_bins, labels=age_labels, right=False, include_lowest=True)\n",
        "\n",
        "# Calculate the number of stroke cases and total cases in each age group\n",
        "# Group by 'age_group' and 'stroke', then count the occurrences\n",
        "age_stroke_counts = data.groupby(['age_group', 'stroke']).size().unstack(fill_value=0)\n",
        "\n",
        "# Calculate the stroke rate for each age group\n",
        "# Stroke rate = (Number of stroke cases) / (Total cases in age group)\n",
        "age_stroke_counts['Total'] = age_stroke_counts[0] + age_stroke_counts[1] # Calculate total cases in each group\n",
        "age_stroke_counts['Stroke_Rate'] = age_stroke_counts[1] / age_stroke_counts['Total'] # Calculate the stroke rate\n",
        "\n",
        "# Create a bar plot to visualize the stroke rate by age group\n",
        "plt.figure(figsize=(10, 6)) # Set the figure size for the plot\n",
        "sns.barplot(x=age_stroke_counts.index, y=age_stroke_counts['Stroke_Rate']) # Create a bar plot with age groups on x-axis and stroke rate on y-axis\n",
        "plt.title('Stroke Rate by Age Group') # Set the title of the plot\n",
        "plt.xlabel('Age Group') # Set the label for the x-axis\n",
        "plt.ylabel('Stroke Rate') # Set the label for the y-axis\n",
        "plt.xticks(rotation=45, ha='right') # Rotate x-axis labels for better readability\n",
        "plt.tight_layout() # Adjust layout to prevent labels overlapping\n",
        "plt.show() # Display the plot"
      ],
      "metadata": {
        "colab": {
          "base_uri": "https://localhost:8080/",
          "height": 639
        },
        "id": "DzrDQR5skVkU",
        "outputId": "5e386f08-a781-4727-fac9-120b1892ee79"
      },
      "execution_count": null,
      "outputs": [
        {
          "output_type": "stream",
          "name": "stderr",
          "text": [
            "/tmp/ipython-input-3123759011.py:16: FutureWarning: The default of observed=False is deprecated and will be changed to True in a future version of pandas. Pass observed=False to retain current behavior or observed=True to adopt the future default and silence this warning.\n",
            "  age_stroke_counts = data.groupby(['age_group', 'stroke']).size().unstack(fill_value=0)\n"
          ]
        },
        {
          "output_type": "display_data",
          "data": {
            "text/plain": [
              "<Figure size 1000x600 with 1 Axes>"
            ],
            "image/png": "[encoded data removed]"
          },
          "metadata": {}
        }
      ]
    },
    {
      "cell_type": "code",
      "source": [
        "# Calculate the number of stroke cases for each gender\n",
        "# Group the data by 'gender' and 'stroke', then count the occurrences in each group\n",
        "gender_stroke_counts = data.groupby(['gender', 'stroke']).size().unstack(fill_value=0)\n",
        "\n",
        "# Create a bar plot to visualize the stroke counts by gender and stroke status\n",
        "# The 'unstack()' operation creates columns for stroke status (0 and 1), allowing seaborn to plot them as separate bars.\n",
        "gender_stroke_counts.plot(kind='bar', stacked=False, figsize=(8, 5)) # Create a bar plot. stacked=False shows bars side-by-side.\n",
        "plt.title('Stroke Count by Gender') # Set the title of the plot\n",
        "plt.xlabel('Gender') # Set the label for the x-axis\n",
        "plt.ylabel('Number of Cases') # Set the label for the y-axis\n",
        "plt.xticks(rotation=0) # Keep x-axis labels horizontal\n",
        "plt.legend(title='Stroke', labels=['No Stroke', 'Stroke']) # Add a legend to explain the bars (0: No Stroke, 1: Stroke)\n",
        "plt.tight_layout() # Adjust layout to prevent labels overlapping\n",
        "plt.show() # Display the plot"
      ],
      "metadata": {
        "colab": {
          "base_uri": "https://localhost:8080/",
          "height": 507
        },
        "id": "9nooYnsUkVg8",
        "outputId": "d48a1346-6ea1-4dbe-b6a8-bb2b779c406f"
      },
      "execution_count": null,
      "outputs": [
        {
          "output_type": "display_data",
          "data": {
            "text/plain": [
              "<Figure size 800x500 with 1 Axes>"
            ],
            "image/png": "[encoded data removed]"
          },
          "metadata": {}
        }
      ]
    },
    {
      "cell_type": "code",
      "metadata": {
        "id": "309fb4cc",
        "colab": {
          "base_uri": "https://localhost:8080/",
          "height": 507
        },
        "outputId": "d0f10dc4-7bbf-470f-f815-eeb8def74791"
      },
      "source": [
        "# Calculate the number of stroke cases for each hypertension status\n",
        "# Group the data by 'hypertension' and 'stroke', then count the occurrences in each group\n",
        "hypertension_stroke_counts = data.groupby(['hypertension', 'stroke']).size().unstack(fill_value=0)\n",
        "\n",
        "# Create a bar plot to visualize the stroke counts by hypertension status and stroke status\n",
        "# The 'unstack()' operation creates columns for stroke status (0 and 1).\n",
        "hypertension_stroke_counts.plot(kind='bar', stacked=False, figsize=(8, 5)) # Create a bar plot. stacked=False shows bars side-by-side.\n",
        "plt.title('Stroke Count by Hypertension Status') # Set the title of the plot\n",
        "plt.xlabel('Hypertension (0: No, 1: Yes)') # Set the label for the x-axis\n",
        "plt.ylabel('Number of Cases') # Set the label for the y-axis\n",
        "plt.xticks(rotation=0) # Keep x-axis labels horizontal\n",
        "plt.legend(title='Stroke', labels=['No Stroke', 'Stroke']) # Add a legend to explain the bars (0: No Stroke, 1: Stroke)\n",
        "plt.tight_layout() # Adjust layout to prevent labels overlapping\n",
        "plt.show() # Display the plot"
      ],
      "execution_count": null,
      "outputs": [
        {
          "output_type": "display_data",
          "data": {
            "text/plain": [
              "<Figure size 800x500 with 1 Axes>"
            ],
            "image/png": "[encoded data removed]"
          },
          "metadata": {}
        }
      ]
    },
    {
      "cell_type": "code",
      "metadata": {
        "id": "454c2956",
        "colab": {
          "base_uri": "https://localhost:8080/",
          "height": 584
        },
        "outputId": "cd2717b9-0499-41e2-be59-26f31f284333"
      },
      "source": [
        "# Group data by gender, hypertension, and stroke and count occurrences\n",
        "gender_hypertension_stroke_counts = data.groupby(['gender', 'hypertension', 'stroke']).size().unstack(fill_value=0)\n",
        "\n",
        "# Unstack the stroke levels to have them as columns for plotting\n",
        "gender_hypertension_stroke_counts = gender_hypertension_stroke_counts.unstack(level='hypertension', fill_value=0)\n",
        "\n",
        "# Plotting\n",
        "gender_hypertension_stroke_counts.plot(kind='bar', stacked=False, figsize=(10, 6))\n",
        "plt.title('Stroke Count by Gender and Hypertension Status')\n",
        "plt.xlabel('Gender and Hypertension (0: No, 1: Yes)')\n",
        "plt.ylabel('Number of Cases')\n",
        "plt.xticks(rotation=45, ha='right')\n",
        "plt.legend(title='Stroke Status and Hypertension', labels=[\n",
        "    'No Stroke (No Hyper)', 'Stroke (No Hyper)',\n",
        "    'No Stroke (Hyper)', 'Stroke (Hyper)'\n",
        "])\n",
        "plt.tight_layout()\n",
        "plt.show()"
      ],
      "execution_count": null,
      "outputs": [
        {
          "output_type": "display_data",
          "data": {
            "text/plain": [
              "<Figure size 1000x600 with 1 Axes>"
            ],
            "image/png": "[encoded data removed]"
          },
          "metadata": {}
        }
      ]
    },
    {
      "cell_type": "markdown",
      "metadata": {
        "id": "5f01a36c"
      },
      "source": [
        "## Task 5: Process Data\n",
        "\n",
        "Encode categorical variables, scale numerical features, and split the data into training and testing sets."
      ]
    },
    {
      "cell_type": "code",
      "metadata": {
        "id": "3cba8bd0"
      },
      "source": [
        "from sklearn.preprocessing import StandardScaler # Import StandardScaler for standardization\n",
        "\n",
        "def scale_numerical_features(df, numerical_cols, scaler=None):\n",
        "    \"\"\"\n",
        "    Scales numerical columns in a DataFrame using StandardScaler.\n",
        "\n",
        "    Args:\n",
        "        df (pd.DataFrame): The input DataFrame.\n",
        "        numerical_cols (list): A list of numerical column names to scale.\n",
        "        scaler (StandardScaler, optional): An existing StandardScaler object to use for transforming.\n",
        "                                           If None, a new scaler is fitted to the data.\n",
        "\n",
        "    Returns:\n",
        "        tuple: A tuple containing the DataFrame with scaled numerical columns\n",
        "               and the fitted StandardScaler object (if scaler was None).\n",
        "    \"\"\"\n",
        "    if scaler is None:\n",
        "        # Initialize and fit the StandardScaler if no scaler is provided\n",
        "        scaler = StandardScaler()\n",
        "        df[numerical_cols] = scaler.fit_transform(df[numerical_cols])\n",
        "        return df, scaler\n",
        "    else:\n",
        "        # Use the provided scaler to transform the data\n",
        "        df[numerical_cols] = scaler.transform(df[numerical_cols])\n",
        "        return df, scaler\n",
        "\n",
        "# Select the numerical columns to scale\n",
        "numerical_cols = ['age', 'avg_glucose_level', 'bmi']\n",
        "\n",
        "# Apply standardization using the function and store the scaler\n",
        "data_scaled, scaler = scale_numerical_features(data_encoded.copy(), numerical_cols) # Use a copy and get the fitted scaler\n",
        "\n",
        "# Display the first few rows of the scaled DataFrame to see the changes\n",
        "print(\"First 5 rows of the scaled data:\")\n",
        "display(data_scaled.head())"
      ],
      "execution_count": null,
      "outputs": []
    },
    {
      "cell_type": "code",
      "metadata": {
        "id": "129a0adc"
      },
      "source": [
        "def encode_categorical_features(df, categorical_cols):\n",
        "    \"\"\"\n",
        "    Applies one-hot encoding to specified categorical columns in a DataFrame.\n",
        "\n",
        "    Args:\n",
        "        df (pd.DataFrame): The input DataFrame.\n",
        "        categorical_cols (list): A list of column names to encode.\n",
        "\n",
        "    Returns:\n",
        "        pd.DataFrame: The DataFrame with categorical columns one-hot encoded.\n",
        "    \"\"\"\n",
        "    # Apply one-hot encoding to the categorical columns\n",
        "    # get_dummies converts categorical variables into dummy/indicator variables.\n",
        "    # prefix is added to column names.\n",
        "    # drop_first=True is used to avoid multicollinearity by dropping the first category of each feature.\n",
        "    df_encoded = pd.get_dummies(df, columns=categorical_cols, drop_first=True)\n",
        "    return df_encoded\n",
        "\n",
        "# Select the categorical columns\n",
        "categorical_cols = data.select_dtypes(include='object').columns\n",
        "\n",
        "# Apply one-hot encoding using the function\n",
        "data_encoded = encode_categorical_features(data.copy(), categorical_cols) # Use a copy to avoid modifying the original data\n",
        "\n",
        "# Display the first few rows of the encoded DataFrame to see the changes\n",
        "print(\"Original data shape:\", data.shape)\n",
        "print(\"Encoded data shape:\", data_encoded.shape)\n",
        "print(\"\\nFirst 5 rows of the encoded data:\")\n",
        "display(data_encoded.head())"
      ],
      "execution_count": null,
      "outputs": []
    },
    {
      "cell_type": "code",
      "source": [
        "from sklearn.model_selection import train_test_split # Import train_test_split for splitting data\n",
        "\n",
        "# Define features (X) and target variable (y)\n",
        "# X will be all columns except 'stroke' and 'id' (as 'id' is not a predictive feature)\n",
        "# y will be the 'stroke' column\n",
        "X = data_scaled.drop(['stroke', 'id'], axis=1)\n",
        "y = data_scaled['stroke']\n",
        "\n",
        "# Split the data into training and testing sets\n",
        "# test_size=0.20 means 20% of the data will be used for testing, and 80% for training.\n",
        "# random_state=42 ensures reproducibility of the split.\n",
        "# stratify=y is important for imbalanced datasets (like this one, with fewer stroke cases).\n",
        "# It ensures that the proportion of stroke cases is the same in both the training and testing sets.\n",
        "X_train, X_test, y_train, y_test = train_test_split(X, y, test_size=0.20, random_state=42, stratify=y)\n",
        "\n",
        "# Print the shapes of the resulting sets to verify the split\n",
        "print(\"Shape of X_train:\", X_train.shape)\n",
        "print(\"Shape of X_test:\", X_test.shape)\n",
        "print(\"Shape of y_train:\", y_train.shape)\n",
        "print(\"Shape of y_test:\", y_test.shape)"
      ],
      "metadata": {
        "colab": {
          "base_uri": "https://localhost:8080/"
        },
        "id": "PceIWTIP5yqZ",
        "outputId": "83f4bc99-4ef6-47ae-d520-eff9b914a57f"
      },
      "execution_count": null,
      "outputs": [
        {
          "output_type": "stream",
          "name": "stdout",
          "text": [
            "Shape of X_train: (4088, 16)\n",
            "Shape of X_test: (1022, 16)\n",
            "Shape of y_train: (4088,)\n",
            "Shape of y_test: (1022,)\n"
          ]
        }
      ]
    },
    {
      "cell_type": "markdown",
      "metadata": {
        "id": "df881001"
      },
      "source": [
        "## Task 6: Build Model\n"
      ]
    },
    {
      "cell_type": "code",
      "source": [
        "from sklearn.linear_model import LogisticRegression # Import the Logistic Regression model\n",
        "from sklearn.ensemble import GradientBoostingClassifier # Import the Gradient Boosting Classifier model\n",
        "\n",
        "# Initialize the Logistic Regression model\n",
        "# We set a random_state for reproducibility\n",
        "lr_model = LogisticRegression(random_state=42)\n",
        "\n",
        "# Train the Logistic Regression model using the training data\n",
        "lr_model.fit(X_train, y_train)\n",
        "\n",
        "print(\"Logistic Regression model trained successfully.\")\n",
        "\n",
        "# Initialize the Gradient Boosting Classifier model\n",
        "# We set a random_state for reproducibility\n",
        "gbm_model = GradientBoostingClassifier(random_state=42)\n",
        "\n",
        "# Train the GBM model using the training data\n",
        "gbm_model.fit(X_train, y_train)\n",
        "\n",
        "print(\"Gradient Boosting Machine model trained successfully.\")"
      ],
      "metadata": {
        "colab": {
          "base_uri": "https://localhost:8080/"
        },
        "id": "5ORoJM1mkXZc",
        "outputId": "8b320660-f356-4cbf-9a2c-0e2cc4d0d301"
      },
      "execution_count": null,
      "outputs": [
        {
          "output_type": "stream",
          "name": "stdout",
          "text": [
            "Logistic Regression model trained successfully.\n",
            "Gradient Boosting Machine model trained successfully.\n"
          ]
        }
      ]
    },
    {
      "cell_type": "markdown",
      "metadata": {
        "id": "7be1bafa"
      },
      "source": [
        "## Task 7: Validate Model\n",
        "\n",
        "Evaluate the model's performance using appropriate metrics (e.g., accuracy, precision, recall, F1-score, AUC) on the testing data. Perform cross-validation for robust evaluation."
      ]
    },
    {
      "cell_type": "code",
      "source": [
        "from sklearn.metrics import accuracy_score, precision_score, recall_score, f1_score, roc_auc_score # Import evaluation metrics\n",
        "\n",
        "# --- Evaluate Logistic Regression Model ---\n",
        "\n",
        "# Make predictions on the test set\n",
        "y_pred_lr = lr_model.predict(X_test)\n",
        "y_proba_lr = lr_model.predict_proba(X_test)[:, 1] # Get probabilities for AUC\n",
        "\n",
        "# Calculate evaluation metrics\n",
        "accuracy_lr = accuracy_score(y_test, y_pred_lr)\n",
        "precision_lr = precision_score(y_test, y_pred_lr)\n",
        "recall_lr = recall_score(y_test, y_pred_lr)\n",
        "f1_lr = f1_score(y_test, y_pred_lr)\n",
        "auc_lr = roc_auc_score(y_test, y_proba_lr)\n",
        "\n",
        "print(\"--- Logistic Regression Model Evaluation ---\")\n",
        "print(f\"Accuracy: {accuracy_lr:.4f}\")\n",
        "print(f\"Precision: {precision_lr:.4f}\")\n",
        "print(f\"Recall: {recall_lr:.4f}\")\n",
        "print(f\"F1-Score: {f1_lr:.4f}\")\n",
        "print(f\"AUC: {auc_lr:.4f}\")\n",
        "print(\"-\" * 30)\n",
        "\n",
        "# --- Evaluate Gradient Boosting Machine Model ---\n",
        "\n",
        "# Make predictions on the test set\n",
        "y_pred_gbm = gbm_model.predict(X_test)\n",
        "y_proba_gbm = gbm_model.predict_proba(X_test)[:, 1] # Get probabilities for AUC\n",
        "\n",
        "# Calculate evaluation metrics\n",
        "accuracy_gbm = accuracy_score(y_test, y_pred_gbm)\n",
        "precision_gbm = precision_score(y_test, y_pred_gbm)\n",
        "recall_gbm = recall_score(y_test, y_pred_gbm)\n",
        "f1_gbm = f1_score(y_test, y_pred_gbm)\n",
        "auc_gbm = roc_auc_score(y_test, y_proba_gbm)\n",
        "\n",
        "print(\"--- Gradient Boosting Machine Model Evaluation ---\")\n",
        "print(f\"Accuracy: {accuracy_gbm:.4f}\")\n",
        "print(f\"Precision: {precision_gbm:.4f}\")\n",
        "print(f\"Recall: {recall_gbm:.4f}\")\n",
        "print(f\"F1-Score: {f1_gbm:.4f}\")\n",
        "print(f\"AUC: {auc_gbm:.4f}\")\n",
        "print(\"-\" * 30)"
      ],
      "metadata": {
        "colab": {
          "base_uri": "https://localhost:8080/"
        },
        "id": "GLQ3h76skYE3",
        "outputId": "1e2578d3-65d7-4f8a-b7e1-5ad4a61238ba"
      },
      "execution_count": null,
      "outputs": [
        {
          "output_type": "stream",
          "name": "stdout",
          "text": [
            "--- Logistic Regression Model Evaluation ---\n",
            "Accuracy: 0.9511\n",
            "Precision: 0.0000\n",
            "Recall: 0.0000\n",
            "F1-Score: 0.0000\n",
            "AUC: 0.8429\n",
            "------------------------------\n",
            "--- Gradient Boosting Machine Model Evaluation ---\n",
            "Accuracy: 0.9472\n",
            "Precision: 0.0000\n",
            "Recall: 0.0000\n",
            "F1-Score: 0.0000\n",
            "AUC: 0.8336\n",
            "------------------------------\n"
          ]
        },
        {
          "output_type": "stream",
          "name": "stderr",
          "text": [
            "/usr/local/lib/python3.12/dist-packages/sklearn/metrics/_classification.py:1565: UndefinedMetricWarning: Precision is ill-defined and being set to 0.0 due to no predicted samples. Use `zero_division` parameter to control this behavior.\n",
            "  _warn_prf(average, modifier, f\"{metric.capitalize()} is\", len(result))\n"
          ]
        }
      ]
    },
    {
      "cell_type": "markdown",
      "metadata": {
        "id": "9da00402"
      },
      "source": [
        "## Task 8: Tune Model\n",
        "\n",
        "Optimize model hyperparameters to improve performance."
      ]
    },
    {
      "cell_type": "code",
      "source": [
        "from sklearn.model_selection import GridSearchCV\n",
        "from sklearn.ensemble import GradientBoostingClassifier\n",
        "\n",
        "# Define the parameter grid for GridSearchCV\n",
        "param_grid = {\n",
        "    'n_estimators': [100, 200],  # Number of boosting stages\n",
        "    'learning_rate': [0.01, 0.1], # Step size shrinkage\n",
        "    'max_depth': [3, 5]         # Maximum depth of the individual estimators\n",
        "}\n",
        "\n",
        "# Initialize the Gradient Boosting Classifier model\n",
        "gbm = GradientBoostingClassifier(random_state=42)\n",
        "\n",
        "# Initialize GridSearchCV\n",
        "# estimator: The model to tune\n",
        "# param_grid: The parameters to search over\n",
        "# cv: Number of cross-validation folds\n",
        "# scoring: Metric to optimize (e.g., 'recall' or 'f1' are good for imbalanced data)\n",
        "# n_jobs: Number of CPU cores to use (-1 means all available)\n",
        "grid_search = GridSearchCV(estimator=gbm, param_grid=param_grid, cv=3, scoring='f1', n_jobs=-1)\n",
        "\n",
        "# Fit GridSearchCV to the training data\n",
        "print(\"Starting Grid Search for Gradient Boosting Machine...\")\n",
        "grid_search.fit(X_train, y_train)\n",
        "\n",
        "print(\"\\nGrid Search complete.\")\n",
        "print(\"Best parameters found: \", grid_search.best_params_)\n",
        "print(\"Best F1-score found: \", grid_search.best_score_)\n",
        "\n",
        "# Get the best model from the grid search\n",
        "best_gbm_model = grid_search.best_estimator_"
      ],
      "metadata": {
        "colab": {
          "base_uri": "https://localhost:8080/"
        },
        "id": "q9tVvmNVkYnv",
        "outputId": "2244dcb3-4137-48d3-be5a-27d314fa7180"
      },
      "execution_count": null,
      "outputs": [
        {
          "output_type": "stream",
          "name": "stdout",
          "text": [
            "Starting Grid Search for Gradient Boosting Machine...\n",
            "\n",
            "Grid Search complete.\n",
            "Best parameters found:  {'learning_rate': 0.1, 'max_depth': 5, 'n_estimators': 200}\n",
            "Best F1-score found:  0.10438456174890283\n"
          ]
        }
      ]
    },
    {
      "cell_type": "markdown",
      "source": [
        "## Evaluation GBC after tuning\n",
        "\n"
      ],
      "metadata": {
        "id": "0-58rmNu9WYG"
      }
    },
    {
      "cell_type": "code",
      "source": [
        "from sklearn.metrics import accuracy_score, precision_score, recall_score, f1_score, roc_auc_score # Import evaluation metrics\n",
        "\n",
        "# --- Evaluate Best Gradient Boosting Machine Model ---\n",
        "\n",
        "# Make predictions on the test set using the best model\n",
        "y_pred_best_gbm = best_gbm_model.predict(X_test)\n",
        "y_proba_best_gbm = best_gbm_model.predict_proba(X_test)[:, 1] # Get probabilities for AUC\n",
        "\n",
        "# Calculate evaluation metrics\n",
        "accuracy_best_gbm = accuracy_score(y_test, y_pred_best_gbm)\n",
        "precision_best_gbm = precision_score(y_test, y_pred_best_gbm)\n",
        "recall_best_gbm = recall_score(y_test, y_pred_best_gbm)\n",
        "f1_best_gbm = f1_score(y_test, y_pred_best_gbm)\n",
        "auc_best_gbm = roc_auc_score(y_test, y_proba_best_gbm)\n",
        "\n",
        "print(\"--- Best Gradient Boosting Machine Model Evaluation (on Test Set) ---\")\n",
        "print(f\"Accuracy: {accuracy_best_gbm:.4f}\")\n",
        "print(f\"Precision: {precision_best_gbm:.4f}\")\n",
        "print(f\"Recall: {recall_best_gbm:.4f}\")\n",
        "print(f\"F1-Score: {f1_best_gbm:.4f}\")\n",
        "print(f\"AUC: {auc_best_gbm:.4f}\")\n",
        "print(\"-\" * 30)"
      ],
      "metadata": {
        "colab": {
          "base_uri": "https://localhost:8080/"
        },
        "id": "G6qOmznpkYlY",
        "outputId": "8fbbcf80-44b1-45f6-9f06-b220b4355cc1"
      },
      "execution_count": null,
      "outputs": [
        {
          "output_type": "stream",
          "name": "stdout",
          "text": [
            "--- Best Gradient Boosting Machine Model Evaluation (on Test Set) ---\n",
            "Accuracy: 0.9432\n",
            "Precision: 0.1667\n",
            "Recall: 0.0400\n",
            "F1-Score: 0.0645\n",
            "AUC: 0.7907\n",
            "------------------------------\n"
          ]
        }
      ]
    }
  ]
}